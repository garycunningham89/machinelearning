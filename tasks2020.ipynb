{
 "cells": [
  {
   "cell_type": "markdown",
   "metadata": {},
   "source": [
    "# Machine Learning Assignment: Tasks 2020"
   ]
  },
  {
   "cell_type": "markdown",
   "metadata": {},
   "source": [
    "# Task 1.\n",
    "### October 5th 2020: Write a Python function called sqrt2 that prints to the screen the square root of 2 to 100 decimal places."
   ]
  },
  {
   "cell_type": "markdown",
   "metadata": {},
   "source": [
    "To include the square root of two. The assumption is to use the x ** 0.5 calculation as standard, with x being the figure to find the square root of."
   ]
  },
  {
   "cell_type": "code",
   "execution_count": 7,
   "metadata": {},
   "outputs": [
    {
     "data": {
      "text/plain": [
       "1.4142135623730951"
      ]
     },
     "execution_count": 7,
     "metadata": {},
     "output_type": "execute_result"
    }
   ],
   "source": [
    "2 ** 0.5"
   ]
  },
  {
   "cell_type": "markdown",
   "metadata": {},
   "source": [
    "This only outputs the square root of 2 to 16 places. \n",
    "\n",
    "To try and expand the figure to more decimal places we can use ('%.Xf' % FN) where X equals the number of decimal places and the FN is the function or figure itself."
   ]
  },
  {
   "cell_type": "code",
   "execution_count": 12,
   "metadata": {},
   "outputs": [
    {
     "name": "stdout",
     "output_type": "stream",
     "text": [
      "1.4142135623730951454746218587388284504413604736328125000000000000000000000000000000000000000000000000\n"
     ]
    }
   ],
   "source": [
    "sqr2 = 2 ** 0.5\n",
    "print('%.100f' % sqr2)"
   ]
  },
  {
   "cell_type": "markdown",
   "metadata": {},
   "source": [
    "This function does not work as expected as the limit the correct output to 52 decimal places and the remainder shows consecutive zeros."
   ]
  },
  {
   "cell_type": "code",
   "execution_count": 14,
   "metadata": {},
   "outputs": [
    {
     "name": "stdout",
     "output_type": "stream",
     "text": [
      "1.4142135623730951454746218587388284504413604736328125\n"
     ]
    }
   ],
   "source": [
    "sqr2 = 2 ** 0.5\n",
    "print('%.52f' % sqr2)"
   ]
  },
  {
   "cell_type": "markdown",
   "metadata": {},
   "source": [
    "This same can be witnessed with the square root of 3 and the square root of 4 works as expected with 100 outputted zeros."
   ]
  },
  {
   "cell_type": "code",
   "execution_count": 1,
   "metadata": {},
   "outputs": [
    {
     "name": "stdout",
     "output_type": "stream",
     "text": [
      "1.7320508075688771931766041234368458390235900878906250000000000000000000000000000000000000000000000000\n"
     ]
    }
   ],
   "source": [
    "sqr3 = 3 ** 0.5\n",
    "print('%.100f' % sqr3)"
   ]
  },
  {
   "cell_type": "code",
   "execution_count": 1,
   "metadata": {},
   "outputs": [
    {
     "name": "stdout",
     "output_type": "stream",
     "text": [
      "2.0000000000000000000000000000000000000000000000000000000000000000000000000000000000000000000000000000\n"
     ]
    }
   ],
   "source": [
    "sqr4 = 4 ** 0.5\n",
    "print('%.100f' % sqr4)"
   ]
  },
  {
   "cell_type": "markdown",
   "metadata": {},
   "source": [
    "The limitation with most computations in Python \"floats are approximated using a binary fraction with the numerator using the first 53 bits starting with the most significant bit\" and hence the figure will numerate zeros thereafter.\n",
    "\n",
    "To ensure the output is correct we can compare the output we have received, using the NASA study on the output of square root of 2 where they outputted the square root to 1m digits. A random sample of which was copied from this study and outputted in the below function with a length of 772 decimal places. The aim is to restrict this and compare to function outputted above for accuracy to the same 52 decimal places - calling .54s. S for string to match the 52f with f for float to 52 decimal places called above."
   ]
  },
  {
   "cell_type": "code",
   "execution_count": 7,
   "metadata": {},
   "outputs": [
    {
     "data": {
      "text/plain": [
       "772"
      ]
     },
     "execution_count": 7,
     "metadata": {},
     "output_type": "execute_result"
    }
   ],
   "source": [
    "value = \"1.41421356237309504880168872420969807856967187537694807317667973799073247846210703885038753432764157273501384623091229702492483605585073721264412149709993583141322266592750559275579995050115278206057147010955997160597027453459686201472851741864088919860955232923048430871432145083976260362799525140798968725339654633180882964062061525835239505474575028775996172983557522033753185701135437460340849884716038689997069900481503054402779031645424782306849293691862158057846311159666871301301561856898723723528850926486124949771542183342042856860601468247207714358548741556570696776537202264854470158588016207584749226572260020855844665214583988939443709265918003113882464681570826301005948587040031864803421948972782906410450726368813137398552561173220402450912277002269411275\"\n",
    "len(value)"
   ]
  },
  {
   "cell_type": "code",
   "execution_count": 10,
   "metadata": {},
   "outputs": [
    {
     "name": "stdout",
     "output_type": "stream",
     "text": [
      "1.4142135623730950488016887242096980785696718753769480\n",
      "\n"
     ]
    }
   ],
   "source": [
    "print('%.54s' % value)\n",
    "print()"
   ]
  },
  {
   "cell_type": "code",
   "execution_count": null,
   "metadata": {},
   "outputs": [],
   "source": []
  },
  {
   "cell_type": "markdown",
   "metadata": {},
   "source": [
    "Python Calculation\n",
    "##### 1.4142135623730951454746218587388284504413604736328125\n",
    "NASA Calculation\n",
    "##### 1.4142135623730950488016887242096980785696718753769480"
   ]
  },
  {
   "cell_type": "markdown",
   "metadata": {},
   "source": [
    "Further comparison with the NASA figures to push the string to 100 decimal places is done below."
   ]
  },
  {
   "cell_type": "code",
   "execution_count": 11,
   "metadata": {},
   "outputs": [
    {
     "name": "stdout",
     "output_type": "stream",
     "text": [
      "1.4142135623730950488016887242096980785696718753769480731766797379907324784621070388503875343276415727\n",
      "\n"
     ]
    }
   ],
   "source": [
    "print('%.102s' % value)\n",
    "print()"
   ]
  },
  {
   "cell_type": "markdown",
   "metadata": {},
   "source": [
    "When verifying the validaty of the square root calculation with the Python libraries we can use the decimal module."
   ]
  },
  {
   "cell_type": "code",
   "execution_count": 2,
   "metadata": {},
   "outputs": [
    {
     "data": {
      "text/plain": [
       "Decimal('1.4142135623730950488016887242096980785696718753769480731766797379907324784621070388503875343276415727')"
      ]
     },
     "execution_count": 2,
     "metadata": {},
     "output_type": "execute_result"
    }
   ],
   "source": [
    "from decimal import *\n",
    "getcontext().prec = 101\n",
    "Decimal(2).sqrt()"
   ]
  },
  {
   "cell_type": "markdown",
   "metadata": {},
   "source": [
    "Decimal\n",
    "1.4142135623730950488016887242096980785696718753769480731766797379907324784621070388503875343276415727\n",
    "\n",
    "NASA\n",
    "1.4142135623730950488016887242096980785696718753769480731766797379907324784621070388503875343276415727\n",
    "\n",
    "### Python Function sqr2"
   ]
  },
  {
   "cell_type": "code",
   "execution_count": 5,
   "metadata": {},
   "outputs": [
    {
     "name": "stdout",
     "output_type": "stream",
     "text": [
      "1.4142135623730949234300169337075203657150268554687500000000000000000000000000000000000000000000000000\n"
     ]
    }
   ],
   "source": [
    "def sqr2(x):\n",
    "    a=x\n",
    "    b=1.0000000000000\n",
    "    c=0.0000000000001\n",
    "    while a-b > c:\n",
    "        a=(a+b)/2\n",
    "        b=x/a\n",
    "    return(a)\n",
    "x = 2\n",
    "s = sqr2(x)\n",
    "sq = format(s, \".100f\")\n",
    "print (sq)"
   ]
  },
  {
   "cell_type": "code",
   "execution_count": 6,
   "metadata": {},
   "outputs": [
    {
     "name": "stdout",
     "output_type": "stream",
     "text": [
      "1.4142135623730949234300169337075203657150268554687500\n"
     ]
    }
   ],
   "source": [
    "def sqr2(x):\n",
    "    a=x\n",
    "    b=1.0000000000000\n",
    "    c=0.0000000000001\n",
    "    while a-b > c:\n",
    "        a=(a+b)/2\n",
    "        b=x/a\n",
    "    return(a)\n",
    "x = 2\n",
    "s = sqr2(x)\n",
    "sq = format(s, \".52F\")\n",
    "print (sq)"
   ]
  },
  {
   "cell_type": "markdown",
   "metadata": {},
   "source": [
    "Python Calculation\n",
    "##### 1.4142135623730951454746218587388284504413604736328125\n",
    "NASA Calculation\n",
    "##### 1.4142135623730950488016887242096980785696718753769480\n",
    "\n",
    "Python Function\n",
    "##### 1.4142135623730949234300169337075203657150268554687500\n",
    "\n",
    "The irregularity with the floating point calculation, although expected in Python, is a quirk that cause computational errors without the correct knowledge. The decimal module, NumPy and SciPy and others allow for this and correct it to compute decimal numbers for the majority of users.\n",
    "\n",
    "### References\n",
    "\n",
    "1. https://www.tutorialspoint.com/python3/number_sqrt.htm\n",
    "\n",
    "2. https://www.geeksforgeeks.org/python-math-function-sqrt/#:~:text=sqrt()%20function%20is%20an,number%20passed%20in%20the%20parameter.\n",
    "\n",
    "3. https://www.programiz.com/python-programming/examples/square-root\n",
    "\n",
    "4. https://stackoverflow.com/questions/9595135/how-do-i-calculate-square-root-in-python\n",
    "\n",
    "5. https://kodify.net/python/math/square-root/\n",
    "\n",
    "6. https://docs.python.org/3/library/math.html\n",
    "\n",
    "7. https://www.w3schools.com/python/ref_math_sqrt.asp\n",
    "\n",
    "8. https://www.thecrazyprogrammer.com/2018/05/how-to-find-square-root-in-python.html\n",
    "\n",
    "9. https://apod.nasa.gov/htmltest/gifcity/sqrt2.1mil\n",
    "\n",
    "10. https://www.w3resource.com/python-exercises/python-basic-exercise-120.php\n",
    "\n",
    "11. https://docs.python.org/3/tutorial/floatingpoint.html\n",
    "\n",
    "12. https://realpython.com/python-square-root-function/\n",
    "\n",
    "13. https://www.math.utah.edu/~pa/math/q1.html\n",
    "\n",
    "14. https://stackoverflow.com/questions/64227023/square-root-to-50-decimal-places-without-importing-decimal-or-math-function\n",
    "\n",
    "15. https://www.gnu.org/software/guile/manual/html_node/Reals-and-Rationals.html"
   ]
  },
  {
   "cell_type": "markdown",
   "metadata": {},
   "source": [
    "# Task 2: Chi-squared\n",
    "#### November 2nd, 2020: \n",
    "The Wikipedia article gives the table below as an example [4],\n",
    "stating the Chi-squared value based on it is approximately 24.6. Use scipy.stats\n",
    "to verify this value and calculate the associated p value.\n",
    "\n",
    "\"A t-test is a type of inferential statistic used to determine if there is a significant difference between the means of two groups, which may be related in certain features\" - Investopedia\n",
    "\n",
    "### Collar Types: White, Blue, None\n",
    "\n",
    "### Variables: A, B, C, D\n",
    "\n",
    "White: A = 90, B = 60, C = 104, D = 95, Total = 349\n",
    "\n",
    "Blue: A = 30, B = 50, C = 51, D = 20, Total = 151\n",
    "\n",
    "None:  A = 30, B = 40, C = 45, D = 35, Total = 150\n",
    "\n",
    "Totals: A = 150, B = 150, C = 200, D = 150, Total = 650\n"
   ]
  },
  {
   "cell_type": "code",
   "execution_count": 7,
   "metadata": {},
   "outputs": [],
   "source": [
    "# Python statistics package.\n",
    "import scipy.stats as ss\n",
    "import pandas as pd"
   ]
  },
  {
   "cell_type": "code",
   "execution_count": 3,
   "metadata": {},
   "outputs": [
    {
     "ename": "NameError",
     "evalue": "name 'pd' is not defined",
     "output_type": "error",
     "traceback": [
      "\u001b[1;31m---------------------------------------------------------------------------\u001b[0m",
      "\u001b[1;31mNameError\u001b[0m                                 Traceback (most recent call last)",
      "\u001b[1;32m<ipython-input-3-0390679965b5>\u001b[0m in \u001b[0;36m<module>\u001b[1;34m\u001b[0m\n\u001b[0;32m      1\u001b[0m \u001b[1;31m#\u001b[0m\u001b[1;33m\u001b[0m\u001b[1;33m\u001b[0m\u001b[1;33m\u001b[0m\u001b[0m\n\u001b[1;32m----> 2\u001b[1;33m \u001b[0mdf\u001b[0m \u001b[1;33m=\u001b[0m \u001b[0mpd\u001b[0m\u001b[1;33m.\u001b[0m\u001b[0mDataFrame\u001b[0m\u001b[1;33m(\u001b[0m\u001b[1;33m)\u001b[0m\u001b[1;33m\u001b[0m\u001b[1;33m\u001b[0m\u001b[0m\n\u001b[0m\u001b[0;32m      3\u001b[0m \u001b[1;33m\u001b[0m\u001b[0m\n\u001b[0;32m      4\u001b[0m \u001b[0mdf\u001b[0m\u001b[1;33m\u001b[0m\u001b[1;33m\u001b[0m\u001b[0m\n",
      "\u001b[1;31mNameError\u001b[0m: name 'pd' is not defined"
     ]
    }
   ],
   "source": [
    "#\n",
    "df = pd.DataFrame()\n",
    "\n",
    "df"
   ]
  },
  {
   "cell_type": "markdown",
   "metadata": {},
   "source": [
    "City of 1,000,000 residents with four neighborhoods: A, B, C, and D.\n",
    "\n",
    "Sample of 650 residents of the city is taken and their \n",
    "\n",
    "Occupation: \"white collar\", \"blue collar\", or \"no collar\".\n",
    "\n",
    "Assumption: neighborhood of residence is independent of the person's occupational classification.\n",
    "\n",
    "| Type | A | B | C | D | Totals | \n",
    "| --- | --- | --- | --- | --- | --- |\n",
    "| White | 90 | 60 | 104 | 95 | 349 |\n",
    "| Blue | 30 | 50 | 51 | 20 | 151 |\n",
    "| None | 30 | 40 | 45 | 35 | 150 |\n",
    "| Totals | 150 | 150 | 200 | 150 | 650 |\n",
    "\n",
    "\n",
    "\n",
    "$$ X^2c=\\sum_{}^\\ \\frac{(Oi−Ei)}{E^i}^2$$\n",
    "\n",
    "c = Degrees of freedom\n",
    "\n",
    "O = Observed value(s)\n",
    "\n",
    "E = Expected value(s)\n"
   ]
  },
  {
   "cell_type": "markdown",
   "metadata": {},
   "source": [
    "https://statistics.laerd.com/spss-tutorials/independent-t-test-using-spss-statistics.php\n",
    "\n",
    "t-Tests\n",
    "https://www.investopedia.com/terms/c/chi-square-statistic.asp\n",
    "https://www.investopedia.com/terms/t/t-test.asp\n",
    "https://en.wikipedia.org/wiki/Chi-squared_test\n",
    "\n",
    "\"As with any statistic, the larger the sample size, the more reliable the results.\""
   ]
  }
 ],
 "metadata": {
  "kernelspec": {
   "display_name": "Python 3",
   "language": "python",
   "name": "python3"
  },
  "language_info": {
   "codemirror_mode": {
    "name": "ipython",
    "version": 3
   },
   "file_extension": ".py",
   "mimetype": "text/x-python",
   "name": "python",
   "nbconvert_exporter": "python",
   "pygments_lexer": "ipython3",
   "version": "3.8.2"
  }
 },
 "nbformat": 4,
 "nbformat_minor": 2
}
