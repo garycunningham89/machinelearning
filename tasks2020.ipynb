{
 "cells": [
  {
   "cell_type": "markdown",
   "metadata": {},
   "source": [
    "# Machine Learning Assignment: Tasks 2020"
   ]
  },
  {
   "cell_type": "markdown",
   "metadata": {},
   "source": [
    "# Task 1: Square root of 2\n",
    "### October 5th 2020: Write a Python function called sqrt2 that prints to the screen the square root of 2 to 100 decimal places.\n",
    "\n",
    "To include the square root of two. The assumption is to use the x ** 0.5 calculation as standard, with x being the figure to find the square root of."
   ]
  },
  {
   "cell_type": "code",
   "execution_count": 7,
   "metadata": {},
   "outputs": [
    {
     "data": {
      "text/plain": [
       "1.4142135623730951"
      ]
     },
     "execution_count": 7,
     "metadata": {},
     "output_type": "execute_result"
    }
   ],
   "source": [
    "2 ** 0.5"
   ]
  },
  {
   "cell_type": "markdown",
   "metadata": {},
   "source": [
    "This only outputs the square root of 2 to 16 places. \n",
    "\n",
    "To try and expand the figure to more decimal places we can use ('%.Xf' % FN) where X equals the number of decimal places and the FN is the function or figure itself."
   ]
  },
  {
   "cell_type": "code",
   "execution_count": 12,
   "metadata": {},
   "outputs": [
    {
     "name": "stdout",
     "output_type": "stream",
     "text": [
      "1.4142135623730951454746218587388284504413604736328125000000000000000000000000000000000000000000000000\n"
     ]
    }
   ],
   "source": [
    "sqr2 = 2 ** 0.5\n",
    "print('%.100f' % sqr2)"
   ]
  },
  {
   "cell_type": "markdown",
   "metadata": {},
   "source": [
    "This function does not work as expected as the limit the correct output to 52 decimal places and the remainder shows consecutive zeros."
   ]
  },
  {
   "cell_type": "code",
   "execution_count": 14,
   "metadata": {},
   "outputs": [
    {
     "name": "stdout",
     "output_type": "stream",
     "text": [
      "1.4142135623730951454746218587388284504413604736328125\n"
     ]
    }
   ],
   "source": [
    "sqr2 = 2 ** 0.5\n",
    "print('%.52f' % sqr2)"
   ]
  },
  {
   "cell_type": "markdown",
   "metadata": {},
   "source": [
    "This same can be witnessed with the square root of 3 and the square root of 4 works as expected with 100 outputted zeros."
   ]
  },
  {
   "cell_type": "code",
   "execution_count": 1,
   "metadata": {},
   "outputs": [
    {
     "name": "stdout",
     "output_type": "stream",
     "text": [
      "1.7320508075688771931766041234368458390235900878906250000000000000000000000000000000000000000000000000\n"
     ]
    }
   ],
   "source": [
    "sqr3 = 3 ** 0.5\n",
    "print('%.100f' % sqr3)"
   ]
  },
  {
   "cell_type": "code",
   "execution_count": 1,
   "metadata": {},
   "outputs": [
    {
     "name": "stdout",
     "output_type": "stream",
     "text": [
      "2.0000000000000000000000000000000000000000000000000000000000000000000000000000000000000000000000000000\n"
     ]
    }
   ],
   "source": [
    "sqr4 = 4 ** 0.5\n",
    "print('%.100f' % sqr4)"
   ]
  },
  {
   "cell_type": "markdown",
   "metadata": {},
   "source": [
    "The limitation with most computations in Python \"floats are approximated using a binary fraction with the numerator using the first 53 bits starting with the most significant bit\" and hence the figure will numerate zeros thereafter.\n",
    "\n",
    "To ensure the output is correct we can compare the output we have received, using the NASA study on the output of square root of 2 where they outputted the square root to 1m digits. A random sample of which was copied from this study and outputted in the below function with a length of 772 decimal places. The aim is to restrict this and compare to function outputted above for accuracy to the same 52 decimal places - calling .54s. S for string to match the 52f with f for float to 52 decimal places called above."
   ]
  },
  {
   "cell_type": "code",
   "execution_count": 7,
   "metadata": {},
   "outputs": [
    {
     "data": {
      "text/plain": [
       "772"
      ]
     },
     "execution_count": 7,
     "metadata": {},
     "output_type": "execute_result"
    }
   ],
   "source": [
    "value = \"1.41421356237309504880168872420969807856967187537694807317667973799073247846210703885038753432764157273501384623091229702492483605585073721264412149709993583141322266592750559275579995050115278206057147010955997160597027453459686201472851741864088919860955232923048430871432145083976260362799525140798968725339654633180882964062061525835239505474575028775996172983557522033753185701135437460340849884716038689997069900481503054402779031645424782306849293691862158057846311159666871301301561856898723723528850926486124949771542183342042856860601468247207714358548741556570696776537202264854470158588016207584749226572260020855844665214583988939443709265918003113882464681570826301005948587040031864803421948972782906410450726368813137398552561173220402450912277002269411275\"\n",
    "len(value)"
   ]
  },
  {
   "cell_type": "code",
   "execution_count": 10,
   "metadata": {},
   "outputs": [
    {
     "name": "stdout",
     "output_type": "stream",
     "text": [
      "1.4142135623730950488016887242096980785696718753769480\n",
      "\n"
     ]
    }
   ],
   "source": [
    "print('%.54s' % value)\n",
    "print()"
   ]
  },
  {
   "cell_type": "markdown",
   "metadata": {},
   "source": [
    "Python Calculation\n",
    "##### 1.4142135623730951454746218587388284504413604736328125\n",
    "NASA Calculation\n",
    "##### 1.4142135623730950488016887242096980785696718753769480"
   ]
  },
  {
   "cell_type": "markdown",
   "metadata": {},
   "source": [
    "Further comparison with the NASA figures to push the string to 100 decimal places is done below."
   ]
  },
  {
   "cell_type": "code",
   "execution_count": 11,
   "metadata": {},
   "outputs": [
    {
     "name": "stdout",
     "output_type": "stream",
     "text": [
      "1.4142135623730950488016887242096980785696718753769480731766797379907324784621070388503875343276415727\n",
      "\n"
     ]
    }
   ],
   "source": [
    "print('%.102s' % value)\n",
    "print()"
   ]
  },
  {
   "cell_type": "markdown",
   "metadata": {},
   "source": [
    "When verifying the validaty of the square root calculation with the Python libraries we can use the decimal module."
   ]
  },
  {
   "cell_type": "code",
   "execution_count": 2,
   "metadata": {},
   "outputs": [
    {
     "data": {
      "text/plain": [
       "Decimal('1.4142135623730950488016887242096980785696718753769480731766797379907324784621070388503875343276415727')"
      ]
     },
     "execution_count": 2,
     "metadata": {},
     "output_type": "execute_result"
    }
   ],
   "source": [
    "from decimal import *\n",
    "getcontext().prec = 101\n",
    "Decimal(2).sqrt()"
   ]
  },
  {
   "cell_type": "markdown",
   "metadata": {},
   "source": [
    "Decimal\n",
    "1.4142135623730950488016887242096980785696718753769480731766797379907324784621070388503875343276415727\n",
    "\n",
    "NASA\n",
    "1.4142135623730950488016887242096980785696718753769480731766797379907324784621070388503875343276415727\n",
    "\n",
    "### Python Function sqr2"
   ]
  },
  {
   "cell_type": "code",
   "execution_count": 5,
   "metadata": {},
   "outputs": [
    {
     "name": "stdout",
     "output_type": "stream",
     "text": [
      "1.4142135623730949234300169337075203657150268554687500000000000000000000000000000000000000000000000000\n"
     ]
    }
   ],
   "source": [
    "def sqr2(x):\n",
    "    a=x\n",
    "    b=1.0000000000000\n",
    "    c=0.0000000000001\n",
    "    while a-b > c:\n",
    "        a=(a+b)/2\n",
    "        b=x/a\n",
    "    return(a)\n",
    "x = 2\n",
    "s = sqr2(x)\n",
    "sq = format(s, \".100f\")\n",
    "print (sq)"
   ]
  },
  {
   "cell_type": "code",
   "execution_count": 6,
   "metadata": {},
   "outputs": [
    {
     "name": "stdout",
     "output_type": "stream",
     "text": [
      "1.4142135623730949234300169337075203657150268554687500\n"
     ]
    }
   ],
   "source": [
    "def sqr2(x):\n",
    "    a=x\n",
    "    b=1.0000000000000\n",
    "    c=0.0000000000001\n",
    "    while a-b > c:\n",
    "        a=(a+b)/2\n",
    "        b=x/a\n",
    "    return(a)\n",
    "x = 2\n",
    "s = sqr2(x)\n",
    "sq = format(s, \".52F\")\n",
    "print (sq)"
   ]
  },
  {
   "cell_type": "markdown",
   "metadata": {},
   "source": [
    "Python Calculation\n",
    "##### 1.4142135623730951454746218587388284504413604736328125\n",
    "NASA Calculation\n",
    "##### 1.4142135623730950488016887242096980785696718753769480\n",
    "\n",
    "Python Function\n",
    "##### 1.4142135623730949234300169337075203657150268554687500\n",
    "\n",
    "The irregularity with the floating point calculation, although expected in Python, is a quirk that cause computational errors without the correct knowledge. The decimal module, NumPy and SciPy and others allow for this and correct it to compute decimal numbers for the majority of users.\n",
    "\n",
    "### References\n",
    "\n",
    "1. https://www.tutorialspoint.com/python3/number_sqrt.htm\n",
    "\n",
    "2. https://www.geeksforgeeks.org/python-math-function-sqrt/#:~:text=sqrt()%20function%20is%20an,number%20passed%20in%20the%20parameter.\n",
    "\n",
    "3. https://www.programiz.com/python-programming/examples/square-root\n",
    "\n",
    "4. https://stackoverflow.com/questions/9595135/how-do-i-calculate-square-root-in-python\n",
    "\n",
    "5. https://kodify.net/python/math/square-root/\n",
    "\n",
    "6. https://docs.python.org/3/library/math.html\n",
    "\n",
    "7. https://www.w3schools.com/python/ref_math_sqrt.asp\n",
    "\n",
    "8. https://www.thecrazyprogrammer.com/2018/05/how-to-find-square-root-in-python.html\n",
    "\n",
    "9. https://apod.nasa.gov/htmltest/gifcity/sqrt2.1mil\n",
    "\n",
    "10. https://www.w3resource.com/python-exercises/python-basic-exercise-120.php\n",
    "\n",
    "11. https://docs.python.org/3/tutorial/floatingpoint.html\n",
    "\n",
    "12. https://realpython.com/python-square-root-function/\n",
    "\n",
    "13. https://www.math.utah.edu/~pa/math/q1.html\n",
    "\n",
    "14. https://stackoverflow.com/questions/64227023/square-root-to-50-decimal-places-without-importing-decimal-or-math-function\n",
    "\n",
    "15. https://www.gnu.org/software/guile/manual/html_node/Reals-and-Rationals.html"
   ]
  },
  {
   "cell_type": "markdown",
   "metadata": {},
   "source": [
    "# Task 2: Chi-squared\n",
    "#### November 2nd, 2020: \n",
    "###### The Wikipedia article gives the table below as an example [4], stating the Chi-squared value based on it is approximately 24.6. Use scipy.stats to verify this value and calculate the associated p value.\n",
    "\n",
    "A chi-squared test (or a χ2 test) is a statistical hypothesis test that compares the relationship between categorical variables, mainly determining the depedence between the variables (either independent or related) (Kent State University, 2020). The test is nonparametric in that it  does not conform to \"prescribed models that are determined by a small number of parameters\" (Investopedia, 2020). The test is valid when the test statistic is chi-squared distributed under the null hypothesis, that determines there is no difference between certain characteristics of a dataset (Investopedia, 2020).\n",
    "\n",
    "The chi-squared test utilizes a contingency table ( or a cross-tabulation/crosstab/two-way table) and all of the data is classified to categorical variables, one varible are in the rows, and the categories of the other appear in columns.\n",
    "\n",
    "As per the Kent study, for an accurate chi test, data must meet the following requirements:\n",
    "\n",
    "1. Two categorical variables.\n",
    "\n",
    "2. Two or more categories (groups) for each variable.\n",
    "\n",
    "3. Independence of observations.\n",
    "\n",
    "4. There is no relationship between the subjects in each group.\n",
    "\n",
    "5. The categorical variables are not \"paired\" in any way (e.g. pre-test/post-test observations).\n",
    "\n",
    "6. Relatively large sample size.\n",
    "\n",
    "7. Expected frequencies for each cell are at least 1.\n",
    "\n",
    "8. Expected frequencies should be at least 5 for the majority (80%) of the cells.\n",
    "\n",
    "The formula for a chi squared test adapted in this notebook from Kent States study is:\n",
    "$$ X^2c=\\sum_{}^\\ \\frac{(Oi-Ei)}{E^i}^2$$\n",
    "\n",
    "Where the data is outlined below: c = Degrees of freedom, O = Observed value(s), E = Expected value(s)\n",
    "\n",
    "The Chi-Squared test calculates the expected frequency of observations for each categorical vairbale and determines the division of the groups within (or the observed frequencies), matches the expected. The output of the test analyses the relationships between the assumption or null hypothesis and the expected frequencies and the variables are considered independent if the frequencies are similar and not dependent if not similar (Brownlee, 2020).\n",
    "\n",
    "\n",
    "### Wikipedia Sample Dataset\n",
    "To form the contingency table we use the counts in the Wikipedia article and divide the variables into rows and columns.\n",
    "\n",
    "#####  Rows = Collar Types: White, Blue, None\n",
    "\n",
    "##### Columns = Count Variables: A, B, C, D\n",
    "\n",
    "And the counts with totals are outlined below:\n",
    "\n",
    "###### White: A = 90, B = 60, C = 104, D = 95, Total = 349\n",
    "\n",
    "###### Blue: A = 30, B = 50, C = 51, D = 20, Total = 151\n",
    "\n",
    "###### None:  A = 30, B = 40, C = 45, D = 35, Total = 150\n",
    "\n",
    "###### Totals: A = 150, B = 150, C = 200, D = 150, Total = 650\n",
    "\n",
    "The counts are representatvie of a city of 1,000,000 residents with four neighborhoods: A, B, C, and D. The sample of 650 residents of the city is taken and their occupations are divided depending on the status: \"white collar\", \"blue collar\", or \"no collar\". The null hypothesis outlined in Wikipedia is that the neighborhood of residence is independent of the person's occupational classification. Combining these in the below table to output the table:\n",
    "\n",
    "| Type | A | B | C | D | Totals | \n",
    "| --- | --- | --- | --- | --- | --- |\n",
    "| White | 90 | 60 | 104 | 95 | 349 |\n",
    "| Blue | 30 | 50 | 51 | 20 | 151 |\n",
    "| None | 30 | 40 | 45 | 35 | 150 |\n",
    "| Totals | 150 | 150 | 200 | 150 | 650 |\n",
    "\n",
    "\n",
    "### Example Chi-Squared Test\n",
    "\n",
    "The sample can be tested using the SciPy package and its chi2_contingeny() SciPy function. Using this function the aim is to validate the approximate value provided, i.e. 24.6, and calculate the associated p value.\n"
   ]
  },
  {
   "cell_type": "code",
   "execution_count": 2,
   "metadata": {},
   "outputs": [
    {
     "name": "stdout",
     "output_type": "stream",
     "text": [
      "The sum of all row chi squared tests is: 24.57\n",
      "The p value of the chi-squared test is: 0.00041\n",
      "Degrees of Freedom: 6\n",
      "The Table outputs for expected outputs for all tables\n",
      "80.53846153846153 80.53846153846153 107.38461538461539 80.53846153846153\n",
      "34.84615384615385 34.84615384615385 46.46153846153846 34.84615384615385\n",
      "34.61538461538461 34.61538461538461 46.15384615384615 34.61538461538461\n"
     ]
    }
   ],
   "source": [
    "import numpy as np\n",
    "import scipy.stats\n",
    "from scipy.stats import chi2_contingency\n",
    "white = [90, 60, 104, 95]\n",
    "blue = [30, 50, 51, 20]\n",
    "none = [30, 40, 45, 35]\n",
    "collar = np.array([white, blue, none])\n",
    "stat, p, dof, expected = chi2_contingency(collar)\n",
    "print('The sum of all row chi squared tests is: ''%.2f' % stat)\n",
    "print('The p value of the chi-squared test is: ''%.5f' % p)\n",
    "print('Degrees of Freedom: ' + str(dof))\n",
    "print('The Table outputs for expected outputs for all tables')\n",
    "for line in expected:\n",
    "    print(*line)"
   ]
  },
  {
   "cell_type": "markdown",
   "metadata": {},
   "source": [
    "The APA requirements state the results for a chi squared test result should match the below format:\n",
    "\n",
    "$$ X^2 (degrees of freedom, N = sample size) = chi-square statistic value, p = p value $$\n",
    "\n",
    "$$ X^2 (1, N = 650) = 24.57, p = 0.00041$$\n",
    "\n",
    "### References\n",
    "\n",
    "1. https://statistics.laerd.com/spss-tutorials/independent-t-test-using-spss-statistics.php\n",
    "\n",
    "2. Brownlee, J. (2020) https://machinelearningmastery.com/chi-squared-test-for-machine-learning/\n",
    "\n",
    "3. https://docs.scipy.org/doc/scipy/reference/generated/scipy.stats.chi2_contingency.html\n",
    "\n",
    "4. https://www.socscistatistics.com/tutorials/chisquare/default.aspx\n",
    "\n",
    "5. https://www.investopedia.com/terms/c/chi-square-statistic.asp\n",
    "\n",
    "6. https://www.investopedia.com/terms/n/nonparametric-statistics.asp#:~:text=Nonparametric%20statistics%20refers%20to%20a,and%20the%20linear%20regression%20model.\n",
    "\n",
    "7. https://www.investopedia.com/terms/t/t-test.asp\n",
    "\n",
    "8. https://www.investopedia.com/terms/p/p-value.asp#:~:text=The%20p%2Dvalue%20approach%20to,(or%20data%20generating%20process).\n",
    "\n",
    "9. https://en.wikipedia.org/wiki/Chi-squared_test\n",
    "\n",
    "10. https://libguides.library.kent.edu/spss/chisquare\n",
    "\"As with any statistic, the larger the sample size, the more reliable the results.\""
   ]
  },
  {
   "cell_type": "markdown",
   "metadata": {},
   "source": [
    "# Task 3: STDEV.P vs STDEV.S - The excel functions.\n",
    "### November 16th: The standard deviation of an array of numbers x is calculated using numpy as np.sqrt(np.sum((x - np.mean(x))**2)/len(x)) . However, Microsoft Excel has two different versions of the standard deviation calculation, STDEV.P and STDEV.S .The STDEV.P function performs the above calculation but in the STDEV.S calculation the division is by len(x)-1 rather than len(x) . Research these Excel functions, writing a note in a Markdown cell about the difference between them. Then use numpy to perform a simulation demonstrating that the STDEV.S calculation is a better estimate for the standard deviation of a population when performed on a sample.\n",
    "\n",
    "#### Standard Deviation\n",
    "\n",
    "A standard deviation value is the value that a data set spans or deviates from the mean of the data set. The mean of course being the average of the sum of the data in the data set. A standard deviation value is either lower or higher depicting a value either closer or farther away from the mean, respectively.\n",
    "\n",
    "#### Microsoft Excel: STDEV.P vs STDEV.S\n",
    "\n",
    "The standard deviation calculation has preloaded functions on Microsoft Excel, and there are 6 standard functions in total. Each function has different functionality in terms of calculation but the general split is based on whether the calculation is on a sample or on the entire population. \n",
    "\n",
    "A population sample standard deviation can be used to infer for the entire population and to account for this inference the calculations of these standard deviations are different. The STEV.S and STDEV.P excel functions are strictly numerical calculations and do not account logical or text values (Microsoft, 2020). \n",
    "The difference between the STEV.S and STDEV.P is based on the method. The standard deviation for STDEV.S is calculated using the \"n\" method and the STEV.P is \"n-1\".\n",
    "\n",
    "The formula for STDEV.S is:\n",
    "\n",
    "$$ \\sqrt{\\frac{\\sum(x-x^-)}{n - 1}^2}$$\n",
    "\n",
    "The formula for STDEV.P is:\n",
    "\n",
    "$$ \\sqrt{\\frac{\\sum(x-x^-)}{n}^2}$$\n",
    "\n",
    "X = sample mean AVERAGE(number1,number2..) and n is the sample size.\n",
    "\n",
    "#### Numpy STDEV\n",
    "\n",
    "As stated: \"The standard deviation of an array of numbers x is calculated using numpy as:\n",
    "$$ np.sqrt(np.sum((x - np.mean(x))**2)/len(x))\" $$\n",
    "\n",
    "The len(x) in this calculation matches the n method as seen in the STDEV.P excel calculation as it accounts for the entire population. Thus len(x-1) would match the STDEV.S function."
   ]
  },
  {
   "cell_type": "code",
   "execution_count": 12,
   "metadata": {},
   "outputs": [
    {
     "name": "stdout",
     "output_type": "stream",
     "text": [
      "The Standard Deviation (STDEV.P) of white collar array is: 16.51\n",
      "The Standard Deviation (STDEV.P) of blue collar array is: 13.24\n",
      "The Standard Deviation (STDEV.P) of none collar array is: 5.59\n"
     ]
    }
   ],
   "source": [
    "import numpy as np\n",
    "white = [90, 60, 104, 95]\n",
    "blue = [30, 50, 51, 20]\n",
    "none = [30, 40, 45, 35]\n",
    "stddevw = np.sqrt(np.sum((white - np.mean(white))**2)/len(white))\n",
    "stddevb = np.sqrt(np.sum((blue - np.mean(blue))**2)/len(blue))\n",
    "stddevn = np.sqrt(np.sum((none - np.mean(none))**2)/len(none))\n",
    "\n",
    "print('The Standard Deviation (STDEV.P) of white collar array is: ''%.2f' % stddevw)\n",
    "print('The Standard Deviation (STDEV.P) of blue collar array is: ''%.2f' % stddevb)\n",
    "print('The Standard Deviation (STDEV.P) of none collar array is: ''%.2f' % stddevn)"
   ]
  },
  {
   "cell_type": "markdown",
   "metadata": {},
   "source": [
    "NumPy has a built in package for standard deviation that is more concise in puts than the outlined calculation above. It is calculates by:\n",
    "$$ np.std(x)$$\n",
    "\n",
    "where x is the data set of value(s). To test this we can redo the above calculations with NumPy's std() function:"
   ]
  },
  {
   "cell_type": "code",
   "execution_count": 19,
   "metadata": {},
   "outputs": [
    {
     "name": "stdout",
     "output_type": "stream",
     "text": [
      "The Standard Deviation (STDEV.P) of white collar array is: 16.51\n",
      "The Standard Deviation (STDEV.P) of blue collar array is: 13.24\n",
      "The Standard Deviation (STDEV.P) of none collar array is: 5.59\n"
     ]
    }
   ],
   "source": [
    "stdw = np.std(white)\n",
    "stdb = np.std(blue)\n",
    "stdn = np.std(none)\n",
    "print('The Standard Deviation (STDEV.P) of white collar array is: ''%.2f' % stdw)\n",
    "print('The Standard Deviation (STDEV.P) of blue collar array is: ''%.2f' % stdb)\n",
    "print('The Standard Deviation (STDEV.P) of none collar array is: ''%.2f' % stdn)"
   ]
  },
  {
   "cell_type": "markdown",
   "metadata": {},
   "source": [
    "This numpy pack"
   ]
  },
  {
   "cell_type": "code",
   "execution_count": 21,
   "metadata": {},
   "outputs": [
    {
     "name": "stdout",
     "output_type": "stream",
     "text": [
      "The Standard Deviation (STDEV.S) of white collar array is: 19.07\n",
      "The Standard Deviation (STDEV.S) of blue collar array is: 15.28\n",
      "The Standard Deviation (STDEV.S) of none collar array is: 6.45\n"
     ]
    }
   ],
   "source": [
    "stdSw = np.std(white, ddof = 1)\n",
    "stdSb = np.std(blue, ddof = 1)\n",
    "stdSn = np.std(none, ddof = 1)\n",
    "print('The Standard Deviation (STDEV.S) of white collar array is: ''%.2f' % stdSw)\n",
    "print('The Standard Deviation (STDEV.S) of blue collar array is: ''%.2f' % stdSb)\n",
    "print('The Standard Deviation (STDEV.S) of none collar array is: ''%.2f' % stdSn)"
   ]
  },
  {
   "cell_type": "code",
   "execution_count": null,
   "metadata": {},
   "outputs": [],
   "source": []
  },
  {
   "cell_type": "markdown",
   "metadata": {},
   "source": [
    "### References\n",
    "1. https://trumpexcel.com/standard-deviation/\n",
    "2. https://docs.python.org/3/library/statistics.html\n",
    "3. https://support.microsoft.com/en-us/office/stdev-s-function-7d69cf97-0c1f-4acf-be27-f3e83904cc23#:~:text=S%20assumes%20that%20its%20arguments,P.&text=Arguments%20can%20either%20be%20numbers,or%20references%20that%20contain%20numbers.\n",
    "4. http://mathbitsnotebook.com/Algebra1/StatisticsData/STPopSample.html\n",
    "5. https://towardsdatascience.com/using-standard-deviation-in-python-77872c32ba9b\n",
    "6. https://stackabuse.com/calculating-variance-and-standard-deviation-in-python/\n",
    "7. https://stackoverflow.com/questions/34133939/is-there-any-difference-between-numpy-std-and-excel-stdev-function"
   ]
  },
  {
   "cell_type": "markdown",
   "metadata": {},
   "source": [
    "# Task 4: k-means clustering to Fisher's Iris Data Set.\n",
    "### November 30th, 2020: Use scikit-learn to apply k-means clustering to Fisher’s famous Iris data set. You will easily obtain a copy of the data set online. Explain in a Markdown cell how your code works and how accurate it might be, and then explain how your model could be used to make predictions of species of iris.\n",
    "\n",
    "Clustering is an unsupervisedlearning method that allows us to group set of objects based on similar characteristics. In general, it can help you find meaningful structure among your data, group similar data together and discover underlying patterns. One of the most common clustering methods is K-means algorithm. --- the total sum of squared distances from each point to the mean point of the cluster is minimized. \n",
    "K means works through the following iterative process:\n",
    "Pick a value for k (the number of clusters to create)\n",
    "Initialize k ‘centroids’ (starting points) in your data\n",
    "Create your clusters. Assign each point to the nearest centroid.\n",
    "Make your clusters better. Move each centroid to the center of its cluster.\n",
    "Repeat steps 3–4 until your centroids converge. \n",
    "Advantages:\n",
    "K-Means is simple and computationally efficient.\n",
    "It is very intuitive and their results are easy to visualize.\n",
    "Disadvantages:\n",
    "K-Means is highly scale dependent and is not suitable for data of varying shapes and densities.\n",
    "Evaluating results is more subjective. It requires much more human evaluation than trusted metrics.\n",
    "## Sanchez, 2018."
   ]
  },
  {
   "cell_type": "code",
   "execution_count": 1,
   "metadata": {},
   "outputs": [],
   "source": [
    "from sklearn import datasets\n",
    "import matplotlib.pyplot as plt\n",
    "import pandas as pd\n",
    "from sklearn.cluster import KMeans"
   ]
  },
  {
   "cell_type": "code",
   "execution_count": 29,
   "metadata": {},
   "outputs": [
    {
     "data": {
      "text/plain": [
       "Text(0, 0.5, 'Sepal Width')"
      ]
     },
     "execution_count": 29,
     "metadata": {},
     "output_type": "execute_result"
    },
    {
     "data": {
      "image/png": "[encoded data removed]",
      "text/plain": [
       "<Figure size 432x288 with 1 Axes>"
      ]
     },
     "metadata": {
      "needs_background": "light"
     },
     "output_type": "display_data"
    }
   ],
   "source": [
    "iris = datasets.load_iris()\n",
    "X = iris.data[:, :2]\n",
    "y = iris.target\n",
    "plt.scatter(X[:,0], X[:,1], c=y)\n",
    "plt.xlabel('Sepa1 Length')\n",
    "plt.ylabel('Sepal Width')"
   ]
  },
  {
   "cell_type": "code",
   "execution_count": 26,
   "metadata": {},
   "outputs": [
    {
     "name": "stdout",
     "output_type": "stream",
     "text": [
      "[[5.77358491 2.69245283]\n",
      " [5.006      3.428     ]\n",
      " [6.81276596 3.07446809]]\n"
     ]
    }
   ],
   "source": [
    "centers = km.cluster_centers_\n",
    "print(centers)"
   ]
  },
  {
   "cell_type": "code",
   "execution_count": 25,
   "metadata": {},
   "outputs": [
    {
     "data": {
      "text/plain": [
       "Text(0.5, 1.0, 'Predicted')"
      ]
     },
     "execution_count": 25,
     "metadata": {},
     "output_type": "execute_result"
    },
    {
     "data": {
      "image/png": "[encoded data removed]",
      "text/plain": [
       "<Figure size 576x288 with 2 Axes>"
      ]
     },
     "metadata": {
      "needs_background": "light"
     },
     "output_type": "display_data"
    }
   ],
   "source": [
    "new_labels = km.labels_\n",
    "fig, axes = plt.subplots(1, 2, figsize=(8,4))\n",
    "axes[0].scatter(X[:, 0], X[:, 1], c=y)\n",
    "axes[1].scatter(X[:, 0], X[:, 1], c=new_labels)\n",
    "axes[0].set_xlabel('Sepal length')\n",
    "axes[0].set_ylabel('Sepal width')\n",
    "axes[1].set_xlabel('Sepal length')\n",
    "axes[1].set_ylabel('Sepal width')\n",
    "axes[0].tick_params(direction='in')\n",
    "axes[1].tick_params(direction='in')\n",
    "axes[0].set_title('Actual')\n",
    "axes[1].set_title('Predicted')"
   ]
  },
  {
   "cell_type": "markdown",
   "metadata": {},
   "source": [
    "### References\n",
    "1. https://medium.com/@belen.sanchez27/predicting-iris-flower-species-with-k-means-clustering-in-python-f6e46806aaee\n",
    "2. https://medium.com/swlh/cluster-analysis-with-iris-data-set-a7c4dd5f5d0\n",
    "3. https://www.kaggle.com/khotijahs1/k-means-clustering-of-iris-dataset\n",
    "4. https://www.researchgate.net/figure/Fishers-iris-data-set-grouped-using-a-k-means-clustering-algorithm-with-k-set-to-3_fig6_338774679\n",
    "5. https://scikit-learn.org/stable/auto_examples/datasets/plot_iris_dataset.html"
   ]
  }
 ],
 "metadata": {
  "kernelspec": {
   "display_name": "Python 3",
   "language": "python",
   "name": "python3"
  },
  "language_info": {
   "codemirror_mode": {
    "name": "ipython",
    "version": 3
   },
   "file_extension": ".py",
   "mimetype": "text/x-python",
   "name": "python",
   "nbconvert_exporter": "python",
   "pygments_lexer": "ipython3",
   "version": "3.8.2"
  }
 },
 "nbformat": 4,
 "nbformat_minor": 2
}
