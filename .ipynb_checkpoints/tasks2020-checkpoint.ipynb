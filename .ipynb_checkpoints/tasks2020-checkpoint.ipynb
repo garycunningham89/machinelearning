{
 "cells": [
  {
   "cell_type": "markdown",
   "metadata": {},
   "source": [
    "# Machine Learning Assignment: Tasks 2020"
   ]
  },
  {
   "cell_type": "markdown",
   "metadata": {},
   "source": [
    "### October 5th 2020: Write a Python function called sqrt2 that prints to the screen the square root of 2 to 100 decimal places.\n",
    "\n",
    "https://www.tutorialspoint.com/python3/number_sqrt.htm\n",
    "\n",
    "https://www.geeksforgeeks.org/python-math-function-sqrt/#:~:text=sqrt()%20function%20is%20an,number%20passed%20in%20the%20parameter.\n",
    "\n",
    "https://www.programiz.com/python-programming/examples/square-root\n",
    "\n",
    "https://stackoverflow.com/questions/9595135/how-do-i-calculate-square-root-in-python\n",
    "\n",
    "https://kodify.net/python/math/square-root/\n",
    "\n",
    "https://docs.python.org/3/library/math.html\n",
    "\n",
    "https://www.w3schools.com/python/ref_math_sqrt.asp\n",
    "\n",
    "https://www.thecrazyprogrammer.com/2018/05/how-to-find-square-root-in-python.html\n"
   ]
  },
  {
   "cell_type": "markdown",
   "metadata": {},
   "source": [
    "To include the square root of two. The assumption is to use the x ** 0.5 calculation as standard, with x being the figure to find the square root of."
   ]
  },
  {
   "cell_type": "code",
   "execution_count": 7,
   "metadata": {},
   "outputs": [
    {
     "data": {
      "text/plain": [
       "1.4142135623730951"
      ]
     },
     "execution_count": 7,
     "metadata": {},
     "output_type": "execute_result"
    }
   ],
   "source": [
    "2 ** 0.5"
   ]
  },
  {
   "cell_type": "markdown",
   "metadata": {},
   "source": [
    "This only outputs the square root of 2 to 16 places. "
   ]
  },
  {
   "cell_type": "code",
   "execution_count": 12,
   "metadata": {},
   "outputs": [
    {
     "name": "stdout",
     "output_type": "stream",
     "text": [
      "1.4142135623730951454746218587388284504413604736328125000000000000000000000000000000000000000000000000\n"
     ]
    }
   ],
   "source": [
    "sqr2 = 2 ** 0.5\n",
    "print('%.100f' % sqr2)"
   ]
  },
  {
   "cell_type": "code",
   "execution_count": 14,
   "metadata": {},
   "outputs": [
    {
     "name": "stdout",
     "output_type": "stream",
     "text": [
      "1.4142135623730951454746218587388284504413604736328125\n"
     ]
    }
   ],
   "source": [
    "sqr2 = 2 ** 0.5\n",
    "print('%.52f' % sqr2)"
   ]
  },
  {
   "cell_type": "code",
   "execution_count": 19,
   "metadata": {},
   "outputs": [
    {
     "name": "stdout",
     "output_type": "stream",
     "text": [
      "1.7320508075688771931766041234368458390235900878906250000000000000000000000000000000000000000000000000\n"
     ]
    }
   ],
   "source": [
    "sqr2 = 3 ** 0.5\n",
    "print('%.100f' % sqr2)"
   ]
  },
  {
   "cell_type": "code",
   "execution_count": 20,
   "metadata": {},
   "outputs": [
    {
     "name": "stdout",
     "output_type": "stream",
     "text": [
      "2.0000000000000000000000000000000000000000000000000000000000000000000000000000000000000000000000000000\n"
     ]
    }
   ],
   "source": [
    "sqr2 = 4 ** 0.5\n",
    "print('%.100f' % sqr2)"
   ]
  },
  {
   "cell_type": "code",
   "execution_count": null,
   "metadata": {},
   "outputs": [],
   "source": []
  }
 ],
 "metadata": {
  "kernelspec": {
   "display_name": "Python 3",
   "language": "python",
   "name": "python3"
  },
  "language_info": {
   "codemirror_mode": {
    "name": "ipython",
    "version": 3
   },
   "file_extension": ".py",
   "mimetype": "text/x-python",
   "name": "python",
   "nbconvert_exporter": "python",
   "pygments_lexer": "ipython3",
   "version": "3.7.1"
  }
 },
 "nbformat": 4,
 "nbformat_minor": 2
}
